{
 "cells": [
  {
   "cell_type": "markdown",
   "id": "6e99cd80",
   "metadata": {},
   "source": [
    "### Contents List\n",
    " \n",
    "#### 01. Importing libraries\n",
    "#### 02 Working with Python data types\n",
    "- 2.1- Three different ways of reaching a result of 100 by adding or subtracting numeric variables.\n",
    "    - 2.1.1. First way (By +/- operators)\n",
    "    - 2.1.2. Second Way (By * operator)\n",
    "    - 2.1.3 Third way (by / operator)\n",
    "\n",
    "- 2.2- Two ways of cheking the current value of a variable\n",
    "- 2.3- How to check the data type of a variable\n",
    "- 2.4 Two floating-point variables and divide them by each other\n",
    "- 2.5 Constructing a short word made of separate strings\n",
    "- 2.6 Constructing two short sentences made of separate strings\n",
    "\n",
    "#### 03 Bonus Task: At the bottom of your file, include a command that makes a string appear 100 times.\n",
    "** **\n"
   ]
  },
  {
   "cell_type": "markdown",
   "id": "e44ce532",
   "metadata": {},
   "source": [
    "# 01 Importing libraries"
   ]
  },
  {
   "cell_type": "code",
   "execution_count": 78,
   "id": "1d36e88a",
   "metadata": {},
   "outputs": [],
   "source": [
    "#import libraries"
   ]
  },
  {
   "cell_type": "code",
   "execution_count": 1,
   "id": "ae95b25c",
   "metadata": {},
   "outputs": [],
   "source": [
    "import pandas as pd\n",
    "import numpy as np\n",
    "import os"
   ]
  },
  {
   "cell_type": "markdown",
   "id": "d0d3de58",
   "metadata": {},
   "source": [
    "# 02 Working with Python data types"
   ]
  },
  {
   "cell_type": "markdown",
   "id": "ad7577a1",
   "metadata": {},
   "source": [
    "### 2.1- Three different ways of reaching a result of 100 by adding or subtracting numeric variables."
   ]
  },
  {
   "cell_type": "markdown",
   "id": "7cf692e2",
   "metadata": {},
   "source": [
    "#### 2.1.1. First way (By +/- operators)"
   ]
  },
  {
   "cell_type": "code",
   "execution_count": 36,
   "id": "3f413408",
   "metadata": {},
   "outputs": [
    {
     "data": {
      "text/plain": [
       "100"
      ]
     },
     "execution_count": 36,
     "metadata": {},
     "output_type": "execute_result"
    }
   ],
   "source": [
    "b = 250\n",
    "c= 20\n",
    "d = 170\n",
    "b+c-d"
   ]
  },
  {
   "cell_type": "markdown",
   "id": "2efd034c",
   "metadata": {},
   "source": [
    "#### 2.1.2. Second Way (By * operator)"
   ]
  },
  {
   "cell_type": "code",
   "execution_count": 33,
   "id": "33ac0d58",
   "metadata": {},
   "outputs": [
    {
     "data": {
      "text/plain": [
       "100"
      ]
     },
     "execution_count": 33,
     "metadata": {},
     "output_type": "execute_result"
    }
   ],
   "source": [
    "e = 10\n",
    "f= 10\n",
    "e *f"
   ]
  },
  {
   "cell_type": "markdown",
   "id": "4be1f05a",
   "metadata": {},
   "source": [
    "#### 2.1.3 Third way (by / operator)"
   ]
  },
  {
   "cell_type": "code",
   "execution_count": 79,
   "id": "42439bdf",
   "metadata": {},
   "outputs": [
    {
     "data": {
      "text/plain": [
       "100"
      ]
     },
     "execution_count": 79,
     "metadata": {},
     "output_type": "execute_result"
    }
   ],
   "source": [
    "g=1000\n",
    "h =10\n",
    "int (g/h)"
   ]
  },
  {
   "cell_type": "markdown",
   "id": "a4cdc004",
   "metadata": {},
   "source": [
    "### 2.2- Two ways of cheking the current value of a variable"
   ]
  },
  {
   "cell_type": "code",
   "execution_count": 27,
   "id": "17bc74b8",
   "metadata": {},
   "outputs": [],
   "source": [
    "x = 100"
   ]
  },
  {
   "cell_type": "code",
   "execution_count": 28,
   "id": "cf00e23e",
   "metadata": {},
   "outputs": [
    {
     "data": {
      "text/plain": [
       "100"
      ]
     },
     "execution_count": 28,
     "metadata": {},
     "output_type": "execute_result"
    }
   ],
   "source": [
    "x"
   ]
  },
  {
   "cell_type": "code",
   "execution_count": 29,
   "id": "ce5d29f0",
   "metadata": {},
   "outputs": [
    {
     "name": "stdout",
     "output_type": "stream",
     "text": [
      "100\n"
     ]
    }
   ],
   "source": [
    "print(x)"
   ]
  },
  {
   "cell_type": "markdown",
   "id": "4ee5ac81",
   "metadata": {},
   "source": [
    "### 2.3- How to check the data type of a variable"
   ]
  },
  {
   "cell_type": "code",
   "execution_count": 30,
   "id": "ac34df35",
   "metadata": {},
   "outputs": [
    {
     "data": {
      "text/plain": [
       "int"
      ]
     },
     "execution_count": 30,
     "metadata": {},
     "output_type": "execute_result"
    }
   ],
   "source": [
    "type(x)"
   ]
  },
  {
   "cell_type": "markdown",
   "id": "4f56a2f3",
   "metadata": {},
   "source": [
    "### 2.4 Two floating-point variables and divide them by each other"
   ]
  },
  {
   "cell_type": "code",
   "execution_count": 52,
   "id": "f522cdb3",
   "metadata": {},
   "outputs": [
    {
     "name": "stdout",
     "output_type": "stream",
     "text": [
      "2.1426415094339624\n",
      "2.0\n"
     ]
    }
   ],
   "source": [
    "y = 5.678\n",
    "j = 2.65\n",
    "k = y/j\n",
    "m= y//j\n",
    "print(k)\n",
    "print (m)"
   ]
  },
  {
   "cell_type": "code",
   "execution_count": 56,
   "id": "90b904f6",
   "metadata": {},
   "outputs": [
    {
     "data": {
      "text/plain": [
       "float"
      ]
     },
     "execution_count": 56,
     "metadata": {},
     "output_type": "execute_result"
    }
   ],
   "source": [
    "type(k)"
   ]
  },
  {
   "cell_type": "markdown",
   "id": "9353cfb9",
   "metadata": {},
   "source": [
    "### 2.5 Constructing a short word made of separate strings"
   ]
  },
  {
   "cell_type": "code",
   "execution_count": 82,
   "id": "8d8c92a1",
   "metadata": {},
   "outputs": [
    {
     "data": {
      "text/plain": [
       "'Brainstorm'"
      ]
     },
     "execution_count": 82,
     "metadata": {},
     "output_type": "execute_result"
    }
   ],
   "source": [
    "z = 'Brain'\n",
    "a= 'storm'\n",
    "z+a"
   ]
  },
  {
   "cell_type": "code",
   "execution_count": 83,
   "id": "4525eef3",
   "metadata": {},
   "outputs": [
    {
     "data": {
      "text/plain": [
       "str"
      ]
     },
     "execution_count": 83,
     "metadata": {},
     "output_type": "execute_result"
    }
   ],
   "source": [
    "type(z)"
   ]
  },
  {
   "cell_type": "markdown",
   "id": "1d48a173",
   "metadata": {},
   "source": [
    "### 2.6 Constructing two short sentences made of separate strings"
   ]
  },
  {
   "cell_type": "code",
   "execution_count": 91,
   "id": "9c1b1819",
   "metadata": {},
   "outputs": [
    {
     "name": "stdout",
     "output_type": "stream",
     "text": [
      "Hello 2023 \n",
      "Happy new year!\n"
     ]
    }
   ],
   "source": [
    "p = 'Hello 2023 \\n'\n",
    "n = 'Happy new year!'\n",
    "print(p+n) "
   ]
  },
  {
   "cell_type": "markdown",
   "id": "3babb986",
   "metadata": {},
   "source": [
    "# 03 Bonus Task: At the bottom of your file, include a command that makes a string appear 100 times."
   ]
  },
  {
   "cell_type": "code",
   "execution_count": 92,
   "id": "fd6dd7be",
   "metadata": {
    "scrolled": false
   },
   "outputs": [
    {
     "data": {
      "text/plain": [
       "'Happy new year!Happy new year!Happy new year!Happy new year!Happy new year!Happy new year!Happy new year!Happy new year!Happy new year!Happy new year!Happy new year!Happy new year!Happy new year!Happy new year!Happy new year!Happy new year!Happy new year!Happy new year!Happy new year!Happy new year!Happy new year!Happy new year!Happy new year!Happy new year!Happy new year!Happy new year!Happy new year!Happy new year!Happy new year!Happy new year!Happy new year!Happy new year!Happy new year!Happy new year!Happy new year!Happy new year!Happy new year!Happy new year!Happy new year!Happy new year!Happy new year!Happy new year!Happy new year!Happy new year!Happy new year!Happy new year!Happy new year!Happy new year!Happy new year!Happy new year!Happy new year!Happy new year!Happy new year!Happy new year!Happy new year!Happy new year!Happy new year!Happy new year!Happy new year!Happy new year!Happy new year!Happy new year!Happy new year!Happy new year!Happy new year!Happy new year!Happy new year!Happy new year!Happy new year!Happy new year!Happy new year!Happy new year!Happy new year!Happy new year!Happy new year!Happy new year!Happy new year!Happy new year!Happy new year!Happy new year!Happy new year!Happy new year!Happy new year!Happy new year!Happy new year!Happy new year!Happy new year!Happy new year!Happy new year!Happy new year!Happy new year!Happy new year!Happy new year!Happy new year!Happy new year!Happy new year!Happy new year!Happy new year!Happy new year!Happy new year!'"
      ]
     },
     "execution_count": 92,
     "metadata": {},
     "output_type": "execute_result"
    }
   ],
   "source": [
    "n*100"
   ]
  }
 ],
 "metadata": {
  "kernelspec": {
   "display_name": "Python 3 (ipykernel)",
   "language": "python",
   "name": "python3"
  },
  "language_info": {
   "codemirror_mode": {
    "name": "ipython",
    "version": 3
   },
   "file_extension": ".py",
   "mimetype": "text/x-python",
   "name": "python",
   "nbconvert_exporter": "python",
   "pygments_lexer": "ipython3",
   "version": "3.9.13"
  }
 },
 "nbformat": 4,
 "nbformat_minor": 5
}
