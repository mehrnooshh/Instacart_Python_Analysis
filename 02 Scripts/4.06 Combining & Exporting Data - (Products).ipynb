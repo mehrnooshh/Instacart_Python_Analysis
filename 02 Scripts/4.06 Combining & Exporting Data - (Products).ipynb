{
 "cells": [
  {
   "cell_type": "markdown",
   "id": "3a5b4b71",
   "metadata": {},
   "source": [
    "## Importing orders_products_combined to merge with Products dataset"
   ]
  },
  {
   "cell_type": "markdown",
   "id": "fecb9045",
   "metadata": {},
   "source": [
    "### Contents List\n",
    " \n",
    "#### 1. Importing libraries and files\n",
    "#### 2. Data type checking\n",
    "#### 3. Merging order and ords_prods using Plan A& B\n",
    "#### 4.  Exporting orders_products_merged dataset in .pkl format\n",
    "** ** "
   ]
  },
  {
   "cell_type": "markdown",
   "id": "f36b2c35",
   "metadata": {},
   "source": [
    "### 1. Importing libraries and files"
   ]
  },
  {
   "cell_type": "code",
   "execution_count": 1,
   "id": "7d0f79c9",
   "metadata": {},
   "outputs": [],
   "source": [
    "# Import the libraries\n",
    "\n",
    "import os\n",
    "import numpy as np\n",
    "import pandas as pd"
   ]
  },
  {
   "cell_type": "code",
   "execution_count": 2,
   "id": "1af2439e",
   "metadata": {},
   "outputs": [],
   "source": [
    "# Set path\n",
    "\n",
    "path = r'C:\\Users\\mehrn\\OneDrive\\Desktop\\CareerFoundry Materials\\Tasks\\Python\\10-01-23 Instacart Basket Analysis'"
   ]
  },
  {
   "cell_type": "code",
   "execution_count": 3,
   "id": "d1958cfd",
   "metadata": {},
   "outputs": [
    {
     "data": {
      "text/html": [
       "<div>\n",
       "<style scoped>\n",
       "    .dataframe tbody tr th:only-of-type {\n",
       "        vertical-align: middle;\n",
       "    }\n",
       "\n",
       "    .dataframe tbody tr th {\n",
       "        vertical-align: top;\n",
       "    }\n",
       "\n",
       "    .dataframe thead th {\n",
       "        text-align: right;\n",
       "    }\n",
       "</style>\n",
       "<table border=\"1\" class=\"dataframe\">\n",
       "  <thead>\n",
       "    <tr style=\"text-align: right;\">\n",
       "      <th></th>\n",
       "      <th>order_id</th>\n",
       "      <th>user_id</th>\n",
       "      <th>order_number</th>\n",
       "      <th>orders_day_of_week</th>\n",
       "      <th>order_time_of_day</th>\n",
       "      <th>days_since_prior_order</th>\n",
       "      <th>new_customer</th>\n",
       "      <th>product_id</th>\n",
       "      <th>add_to_cart_order</th>\n",
       "      <th>reordered</th>\n",
       "      <th>_merge</th>\n",
       "    </tr>\n",
       "  </thead>\n",
       "  <tbody>\n",
       "    <tr>\n",
       "      <th>0</th>\n",
       "      <td>2539329</td>\n",
       "      <td>1</td>\n",
       "      <td>1</td>\n",
       "      <td>2</td>\n",
       "      <td>8</td>\n",
       "      <td>-1.0</td>\n",
       "      <td>True</td>\n",
       "      <td>196.0</td>\n",
       "      <td>1.0</td>\n",
       "      <td>0.0</td>\n",
       "      <td>both</td>\n",
       "    </tr>\n",
       "    <tr>\n",
       "      <th>1</th>\n",
       "      <td>2539329</td>\n",
       "      <td>1</td>\n",
       "      <td>1</td>\n",
       "      <td>2</td>\n",
       "      <td>8</td>\n",
       "      <td>-1.0</td>\n",
       "      <td>True</td>\n",
       "      <td>14084.0</td>\n",
       "      <td>2.0</td>\n",
       "      <td>0.0</td>\n",
       "      <td>both</td>\n",
       "    </tr>\n",
       "    <tr>\n",
       "      <th>2</th>\n",
       "      <td>2539329</td>\n",
       "      <td>1</td>\n",
       "      <td>1</td>\n",
       "      <td>2</td>\n",
       "      <td>8</td>\n",
       "      <td>-1.0</td>\n",
       "      <td>True</td>\n",
       "      <td>12427.0</td>\n",
       "      <td>3.0</td>\n",
       "      <td>0.0</td>\n",
       "      <td>both</td>\n",
       "    </tr>\n",
       "    <tr>\n",
       "      <th>3</th>\n",
       "      <td>2539329</td>\n",
       "      <td>1</td>\n",
       "      <td>1</td>\n",
       "      <td>2</td>\n",
       "      <td>8</td>\n",
       "      <td>-1.0</td>\n",
       "      <td>True</td>\n",
       "      <td>26088.0</td>\n",
       "      <td>4.0</td>\n",
       "      <td>0.0</td>\n",
       "      <td>both</td>\n",
       "    </tr>\n",
       "    <tr>\n",
       "      <th>4</th>\n",
       "      <td>2539329</td>\n",
       "      <td>1</td>\n",
       "      <td>1</td>\n",
       "      <td>2</td>\n",
       "      <td>8</td>\n",
       "      <td>-1.0</td>\n",
       "      <td>True</td>\n",
       "      <td>26405.0</td>\n",
       "      <td>5.0</td>\n",
       "      <td>0.0</td>\n",
       "      <td>both</td>\n",
       "    </tr>\n",
       "  </tbody>\n",
       "</table>\n",
       "</div>"
      ],
      "text/plain": [
       "   order_id  user_id  order_number  orders_day_of_week  order_time_of_day  \\\n",
       "0   2539329        1             1                   2                  8   \n",
       "1   2539329        1             1                   2                  8   \n",
       "2   2539329        1             1                   2                  8   \n",
       "3   2539329        1             1                   2                  8   \n",
       "4   2539329        1             1                   2                  8   \n",
       "\n",
       "   days_since_prior_order  new_customer  product_id  add_to_cart_order  \\\n",
       "0                    -1.0          True       196.0                1.0   \n",
       "1                    -1.0          True     14084.0                2.0   \n",
       "2                    -1.0          True     12427.0                3.0   \n",
       "3                    -1.0          True     26088.0                4.0   \n",
       "4                    -1.0          True     26405.0                5.0   \n",
       "\n",
       "   reordered _merge  \n",
       "0        0.0   both  \n",
       "1        0.0   both  \n",
       "2        0.0   both  \n",
       "3        0.0   both  \n",
       "4        0.0   both  "
      ]
     },
     "execution_count": 3,
     "metadata": {},
     "output_type": "execute_result"
    }
   ],
   "source": [
    "# Import 'orders_products_combined' to check the shape of the imported dataframe\n",
    "\n",
    "ords_prods= pd.read_pickle(os.path.join(path, '02 Data', 'Prepared Data', 'orders_products_combined.pkl'))\n",
    "ords_prods.head()"
   ]
  },
  {
   "cell_type": "code",
   "execution_count": 4,
   "id": "a6c3e25e",
   "metadata": {},
   "outputs": [],
   "source": [
    "# Import products dataset to combine with 'ords_prods' dataframe\n",
    "\n",
    "\n",
    "prods = pd.read_csv(os.path.join(path, '02 Data', 'Prepared Data', 'products__checked.CSV'), index_col = 0)"
   ]
  },
  {
   "cell_type": "markdown",
   "id": "b0b2e02f",
   "metadata": {},
   "source": [
    "### 2. Data type checking"
   ]
  },
  {
   "cell_type": "code",
   "execution_count": 5,
   "id": "574f8562",
   "metadata": {},
   "outputs": [
    {
     "data": {
      "text/html": [
       "<div>\n",
       "<style scoped>\n",
       "    .dataframe tbody tr th:only-of-type {\n",
       "        vertical-align: middle;\n",
       "    }\n",
       "\n",
       "    .dataframe tbody tr th {\n",
       "        vertical-align: top;\n",
       "    }\n",
       "\n",
       "    .dataframe thead th {\n",
       "        text-align: right;\n",
       "    }\n",
       "</style>\n",
       "<table border=\"1\" class=\"dataframe\">\n",
       "  <thead>\n",
       "    <tr style=\"text-align: right;\">\n",
       "      <th></th>\n",
       "      <th>product_id</th>\n",
       "      <th>product_name</th>\n",
       "      <th>aisle_id</th>\n",
       "      <th>department_id</th>\n",
       "      <th>prices</th>\n",
       "    </tr>\n",
       "  </thead>\n",
       "  <tbody>\n",
       "    <tr>\n",
       "      <th>0</th>\n",
       "      <td>1</td>\n",
       "      <td>Chocolate Sandwich Cookies</td>\n",
       "      <td>61</td>\n",
       "      <td>19</td>\n",
       "      <td>5.8</td>\n",
       "    </tr>\n",
       "    <tr>\n",
       "      <th>1</th>\n",
       "      <td>2</td>\n",
       "      <td>All-Seasons Salt</td>\n",
       "      <td>104</td>\n",
       "      <td>13</td>\n",
       "      <td>9.3</td>\n",
       "    </tr>\n",
       "    <tr>\n",
       "      <th>2</th>\n",
       "      <td>3</td>\n",
       "      <td>Robust Golden Unsweetened Oolong Tea</td>\n",
       "      <td>94</td>\n",
       "      <td>7</td>\n",
       "      <td>4.5</td>\n",
       "    </tr>\n",
       "    <tr>\n",
       "      <th>3</th>\n",
       "      <td>4</td>\n",
       "      <td>Smart Ones Classic Favorites Mini Rigatoni Wit...</td>\n",
       "      <td>38</td>\n",
       "      <td>1</td>\n",
       "      <td>10.5</td>\n",
       "    </tr>\n",
       "    <tr>\n",
       "      <th>4</th>\n",
       "      <td>5</td>\n",
       "      <td>Green Chile Anytime Sauce</td>\n",
       "      <td>5</td>\n",
       "      <td>13</td>\n",
       "      <td>4.3</td>\n",
       "    </tr>\n",
       "  </tbody>\n",
       "</table>\n",
       "</div>"
      ],
      "text/plain": [
       "   product_id                                       product_name  aisle_id  \\\n",
       "0           1                         Chocolate Sandwich Cookies        61   \n",
       "1           2                                   All-Seasons Salt       104   \n",
       "2           3               Robust Golden Unsweetened Oolong Tea        94   \n",
       "3           4  Smart Ones Classic Favorites Mini Rigatoni Wit...        38   \n",
       "4           5                          Green Chile Anytime Sauce         5   \n",
       "\n",
       "   department_id  prices  \n",
       "0             19     5.8  \n",
       "1             13     9.3  \n",
       "2              7     4.5  \n",
       "3              1    10.5  \n",
       "4             13     4.3  "
      ]
     },
     "execution_count": 5,
     "metadata": {},
     "output_type": "execute_result"
    }
   ],
   "source": [
    "prods.head()"
   ]
  },
  {
   "cell_type": "code",
   "execution_count": 6,
   "id": "a6b16b9c",
   "metadata": {},
   "outputs": [
    {
     "name": "stdout",
     "output_type": "stream",
     "text": [
      "<class 'pandas.core.frame.DataFrame'>\n",
      "Int64Index: 49672 entries, 0 to 49692\n",
      "Data columns (total 5 columns):\n",
      " #   Column         Non-Null Count  Dtype  \n",
      "---  ------         --------------  -----  \n",
      " 0   product_id     49672 non-null  int64  \n",
      " 1   product_name   49672 non-null  object \n",
      " 2   aisle_id       49672 non-null  int64  \n",
      " 3   department_id  49672 non-null  int64  \n",
      " 4   prices         49672 non-null  float64\n",
      "dtypes: float64(1), int64(3), object(1)\n",
      "memory usage: 2.3+ MB\n"
     ]
    }
   ],
   "source": [
    "prods.info()"
   ]
  },
  {
   "cell_type": "markdown",
   "id": "76dbab8d",
   "metadata": {},
   "source": [
    "### 3. Merging products and ords_prods using Plan A& B"
   ]
  },
  {
   "cell_type": "code",
   "execution_count": 7,
   "id": "cc6e7d6c",
   "metadata": {},
   "outputs": [],
   "source": [
    "# Change types for prods dataset \n",
    "\n",
    "prods['aisle_id'] = prods['aisle_id'].astype('int8')\n",
    "prods['department_id'] = prods['department_id'].astype('int8')\n",
    "prods['prices'] = prods['prices'].astype('float16')"
   ]
  },
  {
   "cell_type": "code",
   "execution_count": 8,
   "id": "f5d47ddf",
   "metadata": {},
   "outputs": [
    {
     "name": "stdout",
     "output_type": "stream",
     "text": [
      "<class 'pandas.core.frame.DataFrame'>\n",
      "Int64Index: 49672 entries, 0 to 49692\n",
      "Data columns (total 5 columns):\n",
      " #   Column         Non-Null Count  Dtype  \n",
      "---  ------         --------------  -----  \n",
      " 0   product_id     49672 non-null  int64  \n",
      " 1   product_name   49672 non-null  object \n",
      " 2   aisle_id       49672 non-null  int8   \n",
      " 3   department_id  49672 non-null  int8   \n",
      " 4   prices         49672 non-null  float16\n",
      "dtypes: float16(1), int64(1), int8(2), object(1)\n",
      "memory usage: 1.3+ MB\n"
     ]
    }
   ],
   "source": [
    "# Check memory usage\n",
    "\n",
    "prods.info()"
   ]
  },
  {
   "cell_type": "code",
   "execution_count": 9,
   "id": "35989b9a",
   "metadata": {},
   "outputs": [
    {
     "name": "stdout",
     "output_type": "stream",
     "text": [
      "<class 'pandas.core.frame.DataFrame'>\n",
      "Int64Index: 32640698 entries, 0 to 32640697\n",
      "Data columns (total 11 columns):\n",
      " #   Column                  Dtype   \n",
      "---  ------                  -----   \n",
      " 0   order_id                int32   \n",
      " 1   user_id                 int32   \n",
      " 2   order_number            int8    \n",
      " 3   orders_day_of_week      int8    \n",
      " 4   order_time_of_day       int8    \n",
      " 5   days_since_prior_order  float16 \n",
      " 6   new_customer            bool    \n",
      " 7   product_id              float64 \n",
      " 8   add_to_cart_order       float64 \n",
      " 9   reordered               float64 \n",
      " 10  _merge                  category\n",
      "dtypes: bool(1), category(1), float16(1), float64(3), int32(2), int8(3)\n",
      "memory usage: 1.4 GB\n"
     ]
    }
   ],
   "source": [
    "# Check memory usage\n",
    "\n",
    "ords_prods.info()"
   ]
  },
  {
   "cell_type": "code",
   "execution_count": 10,
   "id": "1565bb72",
   "metadata": {},
   "outputs": [],
   "source": [
    "# Change types for prods dataset \n",
    "\n",
    "ords_prods['product_id'] = ords_prods['product_id'].astype('float16')\n",
    "ords_prods['add_to_cart_order'] = ords_prods['add_to_cart_order'].astype('float16')\n",
    "ords_prods['reordered'] = ords_prods['reordered'].astype('float16')"
   ]
  },
  {
   "cell_type": "code",
   "execution_count": 11,
   "id": "fb9d8082",
   "metadata": {},
   "outputs": [
    {
     "name": "stdout",
     "output_type": "stream",
     "text": [
      "<class 'pandas.core.frame.DataFrame'>\n",
      "Int64Index: 32640698 entries, 0 to 32640697\n",
      "Data columns (total 11 columns):\n",
      " #   Column                  Dtype   \n",
      "---  ------                  -----   \n",
      " 0   order_id                int32   \n",
      " 1   user_id                 int32   \n",
      " 2   order_number            int8    \n",
      " 3   orders_day_of_week      int8    \n",
      " 4   order_time_of_day       int8    \n",
      " 5   days_since_prior_order  float16 \n",
      " 6   new_customer            bool    \n",
      " 7   product_id              float16 \n",
      " 8   add_to_cart_order       float16 \n",
      " 9   reordered               float16 \n",
      " 10  _merge                  category\n",
      "dtypes: bool(1), category(1), float16(4), int32(2), int8(3)\n",
      "memory usage: 902.7 MB\n"
     ]
    }
   ],
   "source": [
    "ords_prods.info()"
   ]
  },
  {
   "cell_type": "code",
   "execution_count": 12,
   "id": "6381548a",
   "metadata": {},
   "outputs": [
    {
     "data": {
      "text/html": [
       "<div>\n",
       "<style scoped>\n",
       "    .dataframe tbody tr th:only-of-type {\n",
       "        vertical-align: middle;\n",
       "    }\n",
       "\n",
       "    .dataframe tbody tr th {\n",
       "        vertical-align: top;\n",
       "    }\n",
       "\n",
       "    .dataframe thead th {\n",
       "        text-align: right;\n",
       "    }\n",
       "</style>\n",
       "<table border=\"1\" class=\"dataframe\">\n",
       "  <thead>\n",
       "    <tr style=\"text-align: right;\">\n",
       "      <th></th>\n",
       "      <th>order_id</th>\n",
       "      <th>user_id</th>\n",
       "      <th>order_number</th>\n",
       "      <th>orders_day_of_week</th>\n",
       "      <th>order_time_of_day</th>\n",
       "      <th>days_since_prior_order</th>\n",
       "      <th>new_customer</th>\n",
       "      <th>product_id</th>\n",
       "      <th>add_to_cart_order</th>\n",
       "      <th>reordered</th>\n",
       "      <th>_merge</th>\n",
       "    </tr>\n",
       "  </thead>\n",
       "  <tbody>\n",
       "    <tr>\n",
       "      <th>0</th>\n",
       "      <td>2539329</td>\n",
       "      <td>1</td>\n",
       "      <td>1</td>\n",
       "      <td>2</td>\n",
       "      <td>8</td>\n",
       "      <td>-1.0</td>\n",
       "      <td>True</td>\n",
       "      <td>196.0</td>\n",
       "      <td>1.0</td>\n",
       "      <td>0.0</td>\n",
       "      <td>both</td>\n",
       "    </tr>\n",
       "    <tr>\n",
       "      <th>1</th>\n",
       "      <td>2539329</td>\n",
       "      <td>1</td>\n",
       "      <td>1</td>\n",
       "      <td>2</td>\n",
       "      <td>8</td>\n",
       "      <td>-1.0</td>\n",
       "      <td>True</td>\n",
       "      <td>14080.0</td>\n",
       "      <td>2.0</td>\n",
       "      <td>0.0</td>\n",
       "      <td>both</td>\n",
       "    </tr>\n",
       "    <tr>\n",
       "      <th>2</th>\n",
       "      <td>2539329</td>\n",
       "      <td>1</td>\n",
       "      <td>1</td>\n",
       "      <td>2</td>\n",
       "      <td>8</td>\n",
       "      <td>-1.0</td>\n",
       "      <td>True</td>\n",
       "      <td>12424.0</td>\n",
       "      <td>3.0</td>\n",
       "      <td>0.0</td>\n",
       "      <td>both</td>\n",
       "    </tr>\n",
       "    <tr>\n",
       "      <th>3</th>\n",
       "      <td>2539329</td>\n",
       "      <td>1</td>\n",
       "      <td>1</td>\n",
       "      <td>2</td>\n",
       "      <td>8</td>\n",
       "      <td>-1.0</td>\n",
       "      <td>True</td>\n",
       "      <td>26080.0</td>\n",
       "      <td>4.0</td>\n",
       "      <td>0.0</td>\n",
       "      <td>both</td>\n",
       "    </tr>\n",
       "    <tr>\n",
       "      <th>4</th>\n",
       "      <td>2539329</td>\n",
       "      <td>1</td>\n",
       "      <td>1</td>\n",
       "      <td>2</td>\n",
       "      <td>8</td>\n",
       "      <td>-1.0</td>\n",
       "      <td>True</td>\n",
       "      <td>26400.0</td>\n",
       "      <td>5.0</td>\n",
       "      <td>0.0</td>\n",
       "      <td>both</td>\n",
       "    </tr>\n",
       "  </tbody>\n",
       "</table>\n",
       "</div>"
      ],
      "text/plain": [
       "   order_id  user_id  order_number  orders_day_of_week  order_time_of_day  \\\n",
       "0   2539329        1             1                   2                  8   \n",
       "1   2539329        1             1                   2                  8   \n",
       "2   2539329        1             1                   2                  8   \n",
       "3   2539329        1             1                   2                  8   \n",
       "4   2539329        1             1                   2                  8   \n",
       "\n",
       "   days_since_prior_order  new_customer  product_id  add_to_cart_order  \\\n",
       "0                    -1.0          True       196.0                1.0   \n",
       "1                    -1.0          True     14080.0                2.0   \n",
       "2                    -1.0          True     12424.0                3.0   \n",
       "3                    -1.0          True     26080.0                4.0   \n",
       "4                    -1.0          True     26400.0                5.0   \n",
       "\n",
       "   reordered _merge  \n",
       "0        0.0   both  \n",
       "1        0.0   both  \n",
       "2        0.0   both  \n",
       "3        0.0   both  \n",
       "4        0.0   both  "
      ]
     },
     "execution_count": 12,
     "metadata": {},
     "output_type": "execute_result"
    }
   ],
   "source": [
    "ords_prods.head()"
   ]
  },
  {
   "cell_type": "code",
   "execution_count": 13,
   "id": "8c4dd853",
   "metadata": {},
   "outputs": [],
   "source": [
    "orde_prods = ords_prods.drop(columns = ['_merge'], inplace = True)"
   ]
  },
  {
   "cell_type": "code",
   "execution_count": 14,
   "id": "85a06f47",
   "metadata": {},
   "outputs": [
    {
     "name": "stdout",
     "output_type": "stream",
     "text": [
      "<class 'pandas.core.frame.DataFrame'>\n",
      "Int64Index: 32640698 entries, 0 to 32640697\n",
      "Data columns (total 10 columns):\n",
      " #   Column                  Dtype  \n",
      "---  ------                  -----  \n",
      " 0   order_id                int32  \n",
      " 1   user_id                 int32  \n",
      " 2   order_number            int8   \n",
      " 3   orders_day_of_week      int8   \n",
      " 4   order_time_of_day       int8   \n",
      " 5   days_since_prior_order  float16\n",
      " 6   new_customer            bool   \n",
      " 7   product_id              float16\n",
      " 8   add_to_cart_order       float16\n",
      " 9   reordered               float16\n",
      "dtypes: bool(1), float16(4), int32(2), int8(3)\n",
      "memory usage: 871.6 MB\n"
     ]
    }
   ],
   "source": [
    "ords_prods.info()"
   ]
  },
  {
   "cell_type": "code",
   "execution_count": 28,
   "id": "64fec427",
   "metadata": {},
   "outputs": [],
   "source": [
    " merged_df= ords_prods.merge(prods, on = 'product_id', indicator = True)"
   ]
  },
  {
   "cell_type": "code",
   "execution_count": 34,
   "id": "ae3b5e6c",
   "metadata": {},
   "outputs": [
    {
     "data": {
      "text/plain": [
       "0    6183034\n",
       "1    5643686\n",
       "6    4483111\n",
       "2    4202518\n",
       "5    4195206\n",
       "3    3830728\n",
       "4    3774173\n",
       "Name: orders_day_of_week, dtype: int64"
      ]
     },
     "execution_count": 34,
     "metadata": {},
     "output_type": "execute_result"
    }
   ],
   "source": [
    "merged_df['orders_day_of_week'].value_counts(dropna = False)"
   ]
  },
  {
   "cell_type": "code",
   "execution_count": 16,
   "id": "0428879a",
   "metadata": {},
   "outputs": [],
   "source": [
    "# %%time\n",
    "\n",
    "# ords_prods_key = ords_prods['product_id']\n",
    "\n",
    "# # Creating an empty shell to save the result\n",
    "# df_result = pd.DataFrame(columns=(prods.columns.append(ords_prods.columns)).unique())\n",
    "# df_result.to_csv(os.path.join(path, '02 Data', 'Prepared Data', \"df.csv\"),index_label=False)\n",
    "\n",
    "# # Deleting ords_prods to save memory (the large one)\n",
    "# del(ords_prods)\n",
    "\n",
    "# # The basic idea is that we'll now load the large data set into chunks and then create a function that will \n",
    "# # iteratively merge those chunks to the main data set \n",
    "\n",
    "\n",
    "# # Define a function that will merge the chunks\n",
    "# def preprocess(x):\n",
    "#     ords_prods = pd.merge(prods,x, left_on = \"product_id\", right_on = \"product_id\")\n",
    "#     ords_prods.to_csv(os.path.join(path, '02 Data', 'Prepared Data', \"df.csv\"),mode=\"a\",header=False,index=False)\n",
    "\n",
    "    \n",
    "# reader = pd.read_csv(os.path.join(path, '02 Data', 'Original Data', 'order_products_prior.csv'), chunksize=10000) # chunksize depends on you colsize\n",
    "\n",
    "# [preprocess(r) for r in reader]"
   ]
  },
  {
   "cell_type": "code",
   "execution_count": 17,
   "id": "2a122ccc",
   "metadata": {},
   "outputs": [],
   "source": [
    "# # Import the result to see what happened \n",
    "\n",
    "# df_test = pd.read_csv(os.path.join(path, '02 Data', 'Prepared Data', 'df.csv'))"
   ]
  },
  {
   "cell_type": "code",
   "execution_count": 18,
   "id": "5151c06a",
   "metadata": {},
   "outputs": [],
   "source": [
    "#df_test.columns"
   ]
  },
  {
   "cell_type": "code",
   "execution_count": 19,
   "id": "d13415ea",
   "metadata": {},
   "outputs": [],
   "source": [
    "#df_test.head()"
   ]
  },
  {
   "cell_type": "code",
   "execution_count": 20,
   "id": "2c4c318e",
   "metadata": {},
   "outputs": [],
   "source": [
    "#df_test.info()"
   ]
  },
  {
   "cell_type": "code",
   "execution_count": 21,
   "id": "2db382f3",
   "metadata": {},
   "outputs": [],
   "source": [
    "#df_test.shape"
   ]
  },
  {
   "cell_type": "code",
   "execution_count": 22,
   "id": "22322e30",
   "metadata": {},
   "outputs": [],
   "source": [
    "# # Change types for df_test dataset \n",
    "\n",
    "# df_test['product_id'] =df_test['product_id'].astype('int32')\n",
    "# df_test['aisle_id'] =df_test['aisle_id'].astype('int8')\n",
    "# df_test['department_id'] =df_test['department_id'].astype('int8')\n",
    "# df_test['prices'] =df_test['prices'].astype('float16')\n",
    "# df_test['reordered']=df_test['reordered'].astype('float16')\n",
    "# df_test['order_id']=df_test['order_id'].astype('int32')\n",
    "# df_test['user_id']=df_test['user_id'].astype('int32')\n",
    "# df_test['order_number']=df_test['order_number'].astype('int32')\n",
    "# df_test['orders_day_of_week'] =df_test['orders_day_of_week'].astype('float16')\n",
    "# df_test['order_time_of_day'] =df_test['order_time_of_day'].astype('float16')\n",
    "# df_test['days_since_prior_order'] =df_test['days_since_prior_order'].astype('float16')\n",
    "# df_test['new_customer'] =df_test['new_customer'].astype('float16')\n",
    "# df_test['add_to_cart_order'] =df_test['add_to_cart_order'].astype('float16')"
   ]
  },
  {
   "cell_type": "code",
   "execution_count": 23,
   "id": "d133e68c",
   "metadata": {},
   "outputs": [],
   "source": [
    "#df_test.info()"
   ]
  },
  {
   "cell_type": "markdown",
   "id": "be77619d",
   "metadata": {},
   "source": [
    "### 4.  Exporting orders_products_merged dataset in .pkl format"
   ]
  },
  {
   "cell_type": "code",
   "execution_count": 35,
   "id": "97aa12a4",
   "metadata": {},
   "outputs": [],
   "source": [
    "merged_df.to_pickle(os.path.join(path, '02 Data', 'Prepared Data', 'merged_ordsprods.pkl'))"
   ]
  },
  {
   "cell_type": "code",
   "execution_count": 25,
   "id": "6dda3334",
   "metadata": {},
   "outputs": [],
   "source": [
    "#df_test.to_csv(os.path.join(path, '02 Data', 'Prepared Data', 'orders_products_merged.csv'))"
   ]
  }
 ],
 "metadata": {
  "kernelspec": {
   "display_name": "Python 3 (ipykernel)",
   "language": "python",
   "name": "python3"
  },
  "language_info": {
   "codemirror_mode": {
    "name": "ipython",
    "version": 3
   },
   "file_extension": ".py",
   "mimetype": "text/x-python",
   "name": "python",
   "nbconvert_exporter": "python",
   "pygments_lexer": "ipython3",
   "version": "3.9.13"
  }
 },
 "nbformat": 4,
 "nbformat_minor": 5
}
